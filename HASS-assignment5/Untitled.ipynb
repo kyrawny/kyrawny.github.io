{
 "cells": [
  {
   "cell_type": "code",
   "execution_count": 1,
   "metadata": {},
   "outputs": [],
   "source": [
    "import numpy as np\n",
    "import pandas as pd"
   ]
  },
  {
   "cell_type": "code",
   "execution_count": 44,
   "metadata": {},
   "outputs": [],
   "source": [
    "expenditure_df = pd.read_csv(\"expenditure.csv\")\n",
    "type_df = pd.read_csv(\"expenditure_type.csv\")\n",
    "revenue_df = pd.read_csv(\"revenue.csv\")\n",
    "fiscal_df = pd.read_csv(\"fiscal.csv\")"
   ]
  },
  {
   "cell_type": "code",
   "execution_count": 45,
   "metadata": {},
   "outputs": [
    {
     "name": "stdout",
     "output_type": "stream",
     "text": [
      "                                                 source             target   value\n",
      "0                                  Corporate Income Tax                Tax   17968\n",
      "1                                   Personal Income Tax                Tax   12373\n",
      "2                                       Withholding Tax                Tax    1648\n",
      "3                       Statutory Boards' Contributions                Tax    2505\n",
      "4                                          Assets Taxes                Tax    4742\n",
      "5                      Customs, Excise and Carbon Taxes                Tax    3773\n",
      "6                                Goods and Services Tax                Tax   11344\n",
      "7                                   Motor Vehicle Taxes                Tax    2516\n",
      "8                                Vehicle Quota Premiums                Tax    2276\n",
      "9                                         Betting Taxes                Tax    2408\n",
      "10                                           Stamp Duty                Tax    4253\n",
      "11                                          Other Taxes   Fees and Charges    6434\n",
      "12  Fees and Charges (Excluding Vehicle Quota Premiums)   Fees and Charges    3909\n",
      "13                                               Others             Others     487\n",
      "14                                                  Tax             Budget   65806\n",
      "15                                     Fees and Charges             Budget   10343\n",
      "16                                               Others             Budget     487\n",
      "17                                    Investment Income             Budget   19556\n",
      "18                                             Reserves             Budget   11010\n",
      "19                                               Budget  Total Expenditure  102338\n",
      "20                                               Budget  Special Transfers    4863\n"
     ]
    }
   ],
   "source": [
    "revenue_df = revenue_df[revenue_df.financial_year == 2021].drop(columns=[\"actual_revised_estimated\", \"financial_year\", \"percent_of_gdp\"]).reset_index(drop=True)\n",
    "revenue_df.rename(columns={\"class\":\"target\", \"type\":\"source\", \"amount\":\"value\"}, inplace=True)\n",
    "\n",
    "new_revenue_rows = {\"source\": [], \"target\": [], \"value\": []}\n",
    "\n",
    "for revenue_type in revenue_df.target.unique():\n",
    "    new_revenue_rows[\"source\"].append(revenue_type)\n",
    "    new_revenue_rows[\"target\"].append(\"Budget\")\n",
    "    new_revenue_rows[\"value\"].append(revenue_df[revenue_df.target.str.match(revenue_type)].value.sum())\n",
    "    \n",
    "new_revenue_rows[\"source\"].append(\"Investment Income\")\n",
    "new_revenue_rows[\"target\"].append(\"Budget\")\n",
    "new_revenue_rows[\"value\"].append(19556)\n",
    "\n",
    "new_revenue_rows[\"source\"].append(\"Reserves\")\n",
    "new_revenue_rows[\"target\"].append(\"Budget\")\n",
    "new_revenue_rows[\"value\"].append(11010)\n",
    "\n",
    "new_revenue_rows[\"source\"].append(\"Budget\")\n",
    "new_revenue_rows[\"target\"].append(\"Total Expenditure\")\n",
    "new_revenue_rows[\"value\"].append(102338)\n",
    "\n",
    "new_revenue_rows[\"source\"].append(\"Budget\")\n",
    "new_revenue_rows[\"target\"].append(\"Special Transfers\")\n",
    "new_revenue_rows[\"value\"].append(4863)\n",
    "    \n",
    "df_budget = revenue_df.append(pd.DataFrame.from_dict(new_revenue_rows), ignore_index=True)\n",
    "\n",
    "cols = df_budget.columns.tolist()\n",
    "df_budget = df_budget[cols[1:2] + cols[0:1] + cols[2:3]]\n",
    "\n",
    "print(df_budget.to_string())"
   ]
  },
  {
   "cell_type": "code",
   "execution_count": 46,
   "metadata": {},
   "outputs": [
    {
     "name": "stdout",
     "output_type": "stream",
     "text": [
      "                                                 source                                     target   value\n",
      "0                                  Corporate Income Tax                                        Tax   17968\n",
      "1                                   Personal Income Tax                                        Tax   12373\n",
      "2                                       Withholding Tax                                        Tax    1648\n",
      "3                       Statutory Boards' Contributions                                        Tax    2505\n",
      "4                                          Assets Taxes                                        Tax    4742\n",
      "5                      Customs, Excise and Carbon Taxes                                        Tax    3773\n",
      "6                                Goods and Services Tax                                        Tax   11344\n",
      "7                                   Motor Vehicle Taxes                                        Tax    2516\n",
      "8                                Vehicle Quota Premiums                                        Tax    2276\n",
      "9                                         Betting Taxes                                        Tax    2408\n",
      "10                                           Stamp Duty                                        Tax    4253\n",
      "11                                          Other Taxes                           Fees and Charges    6434\n",
      "12  Fees and Charges (Excluding Vehicle Quota Premiums)                           Fees and Charges    3909\n",
      "13                                               Others                                     Others     487\n",
      "14                                                  Tax                                     Budget   65806\n",
      "15                                     Fees and Charges                                     Budget   10343\n",
      "16                                               Others                                     Budget     487\n",
      "17                                    Investment Income                                     Budget   19556\n",
      "18                                             Reserves                                     Budget   11010\n",
      "19                                               Budget                          Total Expenditure  102338\n",
      "20                                               Budget                          Special Transfers    4863\n",
      "21                                   Social Development                                  Education   13620\n",
      "22                                   Social Development                       National Development    5529\n",
      "23                                   Social Development                                     Health   18845\n",
      "24                                   Social Development         Sustainability and the Environment    2904\n",
      "25                                   Social Development               Culture, Community and Youth    2272\n",
      "26                                   Social Development              Social and Family Development    4113\n",
      "27                                   Social Development             Communications and Information     629\n",
      "28                                   Social Development                                   Manpower    1560\n",
      "29                      Security and External Relations                                    Defence   15361\n",
      "30                      Security and External Relations                               Home Affairs    7876\n",
      "31                      Security and External Relations                            Foreign Affairs     434\n",
      "32                                 Economic Development                                  Transport    5617\n",
      "33                                 Economic Development                         Trade and Industry   11066\n",
      "34                                 Economic Development  Info-Communications and Media Development    7175\n",
      "35                            Government Administration                                    Finance     812\n",
      "36                            Government Administration                                        Law    2068\n",
      "37                            Government Administration                            Organs of State     481\n",
      "38                            Government Administration                    Prime Minister's Office     711\n",
      "39                                    Total Expenditure                         Social Development   49472\n",
      "40                                    Total Expenditure            Security and External Relations   23671\n",
      "41                                    Total Expenditure                       Economic Development   23858\n",
      "42                                    Total Expenditure                  Government Administration    4072\n"
     ]
    }
   ],
   "source": [
    "expenditure_df = expenditure_df[expenditure_df.financial_year == 2021].drop(columns=[\"actual_revised_estimated\", \"financial_year\", \"percent_of_gdp\", \"type\"]).reset_index(drop=True)\n",
    "expenditure_df.rename(columns={\"ministry\":\"target\", \"sector\":\"source\", \"amount\":\"value\"}, inplace=True)\n",
    "\n",
    "new_value = expenditure_df.value.groupby(expenditure_df.value.index // 2).sum().reset_index(drop=True)\n",
    "expenditure_df = expenditure_df.drop_duplicates(subset=[\"target\"]).reset_index(drop=True)\n",
    "expenditure_df.value = new_value\n",
    "\n",
    "new_expenditure_rows = {\"source\": [], \"target\": [], \"value\": []}\n",
    "for expenditure_type in expenditure_df.source.unique():\n",
    "    new_expenditure_rows[\"source\"].append(\"Total Expenditure\")\n",
    "    new_expenditure_rows[\"target\"].append(expenditure_type)\n",
    "    new_expenditure_rows[\"value\"].append(expenditure_df[expenditure_df.source.str.match(expenditure_type)].value.sum())\n",
    "\n",
    "df_budget = df_budget.append(expenditure_df.append(pd.DataFrame.from_dict(new_expenditure_rows), ignore_index=True)).reset_index(drop=True)\n",
    "    \n",
    "print(df_budget.to_string())"
   ]
  },
  {
   "cell_type": "code",
   "execution_count": 51,
   "metadata": {},
   "outputs": [],
   "source": [
    "df_budget[\"color\"] = \"#606266\"\n",
    "df_budget.loc[df_budget.source.str.match(\"Tax\"), \"color\"] = \"#91af8d\"\n",
    "df_budget.loc[df_budget.target.str.match(\"Tax\"), \"color\"] = \"#91af8d\"\n",
    "df_budget.loc[df_budget.source.str.match(\"Fees and Charges\"), \"color\"] = \"#006a7a\"\n",
    "df_budget.loc[df_budget.target.str.match(\"Fees and Charges\"), \"color\"] = \"#006a7a\"\n",
    "df_budget.loc[df_budget.source.str.match(\"Social Development\"), \"color\"] = \"#e1a6ac\"\n",
    "df_budget.loc[df_budget.target.str.match(\"Social Development\"), \"color\"] = \"#e1a6ac\"\n",
    "df_budget.loc[df_budget.source.str.match(\"Security and External Relations\"), \"color\"] = \"#995856\"\n",
    "df_budget.loc[df_budget.target.str.match(\"Security and External Relations\"), \"color\"] = \"#995856\"\n",
    "df_budget.loc[df_budget.source.str.match(\"Economic Development\"), \"color\"] = \"#ce9643\"\n",
    "df_budget.loc[df_budget.target.str.match(\"Economic Development\"), \"color\"] = \"#ce9643\"\n",
    "df_budget.loc[df_budget.source.str.match(\"Government Administration\"), \"color\"] = \"#ac674c\"\n",
    "df_budget.loc[df_budget.target.str.match(\"Government Administration\"), \"color\"] = \"#ac674c\"\n",
    "df_budget.loc[df_budget.source.str.match(\"Reserves\"), \"color\"] = \"#b44034\""
   ]
  },
  {
   "cell_type": "code",
   "execution_count": 52,
   "metadata": {},
   "outputs": [],
   "source": [
    "df_budget.to_csv(\"0.csv\", index=False)"
   ]
  },
  {
   "cell_type": "code",
   "execution_count": null,
   "metadata": {},
   "outputs": [],
   "source": []
  }
 ],
 "metadata": {
  "kernelspec": {
   "display_name": "Python 3",
   "language": "python",
   "name": "python3"
  },
  "language_info": {
   "codemirror_mode": {
    "name": "ipython",
    "version": 3
   },
   "file_extension": ".py",
   "mimetype": "text/x-python",
   "name": "python",
   "nbconvert_exporter": "python",
   "pygments_lexer": "ipython3",
   "version": "3.9.0"
  }
 },
 "nbformat": 4,
 "nbformat_minor": 4
}
